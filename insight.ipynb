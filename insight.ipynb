{
 "cells": [
  {
   "cell_type": "code",
   "execution_count": 1,
   "metadata": {},
   "outputs": [
    {
     "name": "stdout",
     "output_type": "stream",
     "text": [
      "There are 1 GPU(s) available.\n",
      "We will use the GPU: Quadro P2000\n",
      "5.0 0 0\n"
     ]
    }
   ],
   "source": [
    "import torch\n",
    "\n",
    "# If there's a GPU available...\n",
    "if torch.cuda.is_available():   \n",
    "  \n",
    "    # Tell PyTorch to use the GPU.    \n",
    "    device = torch.device(\"cuda\")\n",
    "    print('There are %d GPU(s) available.' % torch.cuda.device_count())\n",
    "    print('We will use the GPU:', torch.cuda.get_device_name(0))\n",
    "\n",
    "# If not...\n",
    "else:\n",
    "    print('No GPU available, using the CPU instead.')\n",
    "    device = torch.device(\"cpu\")\n",
    "\n",
    "torch.cuda.is_available()\n",
    "torch.cuda.get_device_name()\n",
    "torch.cuda.current_device()\n",
    "t = torch.cuda.get_device_properties(0).total_memory/1024/1024/1024\n",
    "c = torch.cuda.memory_cached(0)\n",
    "a = torch.cuda.memory_allocated(0)\n",
    "print(t, c, a)"
   ]
  },
  {
   "cell_type": "code",
   "execution_count": 2,
   "metadata": {
    "collapsed": true
   },
   "outputs": [
    {
     "name": "stderr",
     "output_type": "stream",
     "text": [
      "C:\\Users\\Insight1\\Anaconda3\\lib\\site-packages\\tqdm\\std.py:658: FutureWarning: The Panel class is removed from pandas. Accessing it from the top-level namespace will also be removed in the next version\n",
      "  from pandas import Panel\n"
     ]
    }
   ],
   "source": [
    "import pandas as pd\n",
    "import numpy as np\n",
    "import pickle\n",
    "import matplotlib.pyplot as plt\n",
    "import math\n",
    "import re\n",
    "from scipy import stats\n",
    "\n",
    "import os\n",
    "os.chdir(\"I:\")\n",
    "\n",
    "from tqdm.notebook import tqdm\n",
    "tqdm.pandas()"
   ]
  },
  {
   "cell_type": "markdown",
   "metadata": {},
   "source": [
    "## Vectorize notes by Spacy"
   ]
  },
  {
   "cell_type": "code",
   "execution_count": null,
   "metadata": {},
   "outputs": [],
   "source": [
    "import spacy\n",
    "nlp = spacy.load('en_core_web_lg')"
   ]
  },
  {
   "cell_type": "code",
   "execution_count": null,
   "metadata": {},
   "outputs": [],
   "source": [
    "df = pd.read_pickle('spacy_vec_split_len.pkl')"
   ]
  },
  {
   "cell_type": "code",
   "execution_count": null,
   "metadata": {},
   "outputs": [],
   "source": [
    "import string\n",
    "def clean2(note):\n",
    "    table = str.maketrans('', '','!\"#$%&\\'()*+,-./:;<=>?@‘¥£’—“[\\\\]^_`{|}~«»§é')\n",
    "    s = note.translate(table)\n",
    "    s1 = s.replace('\\n',' ').lower()\n",
    "    s2 = re.sub('(\\\\b[A-Za-z] \\\\b|\\\\b [A-Za-z]\\\\b)', '', s1)\n",
    "    st_clean = re.sub(r' +', ' ', s2)\n",
    "    return st_clean"
   ]
  },
  {
   "cell_type": "code",
   "execution_count": null,
   "metadata": {},
   "outputs": [],
   "source": [
    "df['notes_clean'] = df['notes'].progress_apply(lambda x: clean2(x))\n",
    "\n",
    "df['len_clean'] = df['notes_clean'].progress_apply(lambda x: len(x.split(' ')))\n",
    "\n",
    "df[['key','notes','le_months','notes_clean','len_clean']].to_pickle('notes_clean.pkl')"
   ]
  },
  {
   "cell_type": "code",
   "execution_count": null,
   "metadata": {},
   "outputs": [],
   "source": [
    "df['noteclean_spacy_vec'] = df['notes_clean'].progress_apply(lambda x: nlp(x).vector)\n",
    "\n",
    "df[['notes_clean','noteclean_spacy_vec','le_months']].to_pickle('clean_note_spacy_vec.pkl')"
   ]
  },
  {
   "cell_type": "code",
   "execution_count": null,
   "metadata": {},
   "outputs": [],
   "source": [
    "filt = (df['len_clean']<=2000) & (df['len_clean']>=100) & (df['le_months'] <=250)\n",
    "df[filt]"
   ]
  },
  {
   "cell_type": "code",
   "execution_count": null,
   "metadata": {},
   "outputs": [],
   "source": []
  },
  {
   "cell_type": "code",
   "execution_count": null,
   "metadata": {},
   "outputs": [],
   "source": [
    "df['note_spacy_vec'] = df['notes'].progress_apply(lambda x: nlp(x).vector)\n",
    "\n",
    "df.to_pickle('spacy_vec.pkl') #save Spacy vectorized notes to pkl"
   ]
  },
  {
   "cell_type": "code",
   "execution_count": null,
   "metadata": {},
   "outputs": [],
   "source": [
    "df['le_months'] = df['le_months'].astype(int)\n",
    "print(df.dtypes)\n",
    "\n",
    "print(df['le_months'].astype(int).min())\n",
    "print(df['le_months'].astype(int).max())\n",
    "\n",
    "ave_mo = np.average(df['le_months'].to_numpy())\n",
    "mode_mo = stats.mode(df['le_months'].to_numpy())\n",
    "print('Months to live Average: {} \\nMonths to live mode: {}'.format(ave_mo, mode_mo[0]))\n"
   ]
  },
  {
   "cell_type": "markdown",
   "metadata": {},
   "source": [
    "## Save spacy_vec, note_split, len_word as pickle"
   ]
  },
  {
   "cell_type": "code",
   "execution_count": null,
   "metadata": {},
   "outputs": [],
   "source": [
    "#df['len_char'] = df['notes'].apply(len)\n",
    "df['note_split'] = df['notes'].str.replace('\\n', '').str.replace(r' +', ' ').str.split(' ') #replace \\n with space or not\n",
    "df['len_word'] = df['note_split'].apply(len)\n",
    "\n",
    "df.to_pickle('spacy_vec_split_len.pkl') #save Spacy vectorized notes to pkl"
   ]
  },
  {
   "cell_type": "markdown",
   "metadata": {},
   "source": [
    "## Load spacy_vec_split_len.pkl"
   ]
  },
  {
   "cell_type": "code",
   "execution_count": null,
   "metadata": {},
   "outputs": [],
   "source": [
    "# df = pd.read_pickle('spacy_vec_split_len.pkl')\n",
    "# type(df['note_split'][0])"
   ]
  },
  {
   "cell_type": "code",
   "execution_count": null,
   "metadata": {},
   "outputs": [],
   "source": [
    "df['note_spacy_vec'].apply(len)"
   ]
  },
  {
   "cell_type": "markdown",
   "metadata": {},
   "source": [
    "## Plot life expectancy"
   ]
  },
  {
   "cell_type": "code",
   "execution_count": null,
   "metadata": {},
   "outputs": [],
   "source": [
    "#df[['le_months']].plot(kind='hist',bins=[0,100, 200, 400],rwidth=0.8)\n",
    "plt.hist(df['le_months'].to_numpy(), bins = 50, color = 'gold', ec = 'black')\n",
    "plt.xlabel('Month', fontsize =12)\n",
    "plt.ylabel('Frequency',fontsize =12)\n",
    "plt.title('Remaining Life Expectancy  Distribution')\n",
    "# plt.grid(True)"
   ]
  },
  {
   "cell_type": "markdown",
   "metadata": {},
   "source": [
    "## Plot number of words per note"
   ]
  },
  {
   "cell_type": "code",
   "execution_count": null,
   "metadata": {},
   "outputs": [],
   "source": [
    "# df[['len_word']].plot(kind='hist',bins=[0,100, 1000, 5000, math.inf],rwidth=0.8)\n",
    "plt.hist(df['len_word'].to_numpy(), bins = 50, color = 'pink', ec = 'black')\n",
    "plt.xlabel('Words Per Note',fontsize =12)\n",
    "plt.ylabel('Frequency',fontsize =12)\n",
    "plt.title('Number of Words per Note')#### Plot life expectancy"
   ]
  },
  {
   "cell_type": "markdown",
   "metadata": {},
   "source": [
    "## Data Cleaning"
   ]
  },
  {
   "cell_type": "code",
   "execution_count": null,
   "metadata": {},
   "outputs": [],
   "source": [
    "print(df.shape)\n",
    "\n",
    "df.drop(index = df[(df['len_word'] <=2) | (df['len_word']>= 2000)].index, inplace = True) # remonve empty or >2000 note\n",
    "df.drop(index = df[df['le_months']>250].index, inplace = True) # remove life expect > 250 mo (21 years)\n",
    "# above total removed 706 data\n",
    "print(df.shape)"
   ]
  },
  {
   "cell_type": "markdown",
   "metadata": {},
   "source": [
    "## Plot note Word cloud"
   ]
  },
  {
   "cell_type": "code",
   "execution_count": null,
   "metadata": {},
   "outputs": [],
   "source": [
    "df = pd.read_pickle('spacy_vec_split_len.pkl')"
   ]
  },
  {
   "cell_type": "code",
   "execution_count": null,
   "metadata": {},
   "outputs": [],
   "source": [
    "filt = (df['len_word'] >= 500) & (df['len_word'] <= 600)\n",
    "notewc = df.loc[filt, 'notes'].copy()\n",
    "notewc.index = range(len(notewc))\n",
    "\n",
    "import random\n",
    "a = random.randrange(len(notewc))"
   ]
  },
  {
   "cell_type": "code",
   "execution_count": null,
   "metadata": {},
   "outputs": [],
   "source": [
    "from wordcloud import WordCloud, STOPWORDS, ImageColorGenerator\n",
    "STOPWORDS.update(['noted', 'was', 'say','Was','cited','Vv'])\n",
    "stopwords = set(STOPWORDS)\n",
    "wc = WordCloud(width = 800, height = 800, \n",
    "               background_color ='white', \n",
    "               stopwords = stopwords)\n",
    "\n",
    "\n",
    "wc.generate(notewc[a])\n",
    "plt.figure(figsize = (6, 6), facecolor = None) \n",
    "plt.imshow(wc) \n",
    "plt.axis(\"off\") \n",
    "plt.tight_layout(pad = 0) \n",
    "  \n",
    "plt.show() \n",
    "wc.to_file('note_wc7.png')"
   ]
  },
  {
   "cell_type": "markdown",
   "metadata": {},
   "source": [
    "## Train Test Split for ML"
   ]
  },
  {
   "cell_type": "code",
   "execution_count": null,
   "metadata": {},
   "outputs": [],
   "source": [
    "# X and y from noteclean_spacy_vec\n",
    "filt = df[(df['len_clean']>=100) & (df['len_clean']<=2000) & (df['le_months']<= 250)] # filter data for ML\n",
    "\n",
    "X = np.array(filt['noteclean_spacy_vec'].values.tolist())\n",
    "y = filt['le_months'].to_numpy()"
   ]
  },
  {
   "cell_type": "code",
   "execution_count": null,
   "metadata": {},
   "outputs": [],
   "source": [
    "# X and y from note_spacy_vec\n",
    "filt = df[(df['len_word']>3) & (df['len_word']<=2000) & (df['le_months']<= 250)] # filter data for ML\n",
    "# filt['len_word'].value_counts().sort_index()\n",
    "\n",
    "X = np.array(filt['note_spacy_vec'].values.tolist())\n",
    "y = filt['le_months'].to_numpy()"
   ]
  },
  {
   "cell_type": "code",
   "execution_count": 5,
   "metadata": {},
   "outputs": [],
   "source": [
    "# X and y from spacy_lss\n",
    "df = pd.read_pickle('spacy_lss.pkl')\n",
    "filt = df[(df['len_lss']>50) & (df['len_lss']<=1000) & (df['le_months']<= 250)] # filter data for ML\n",
    "# filt['len_word'].value_counts().sort_index()\n",
    "\n",
    "X = np.array(filt['spacy_lss'].values.tolist())\n",
    "y = filt['le_months'].to_numpy()"
   ]
  },
  {
   "cell_type": "code",
   "execution_count": 6,
   "metadata": {},
   "outputs": [],
   "source": [
    "from sklearn.model_selection import train_test_split\n",
    "X_train, X_test, y_train, y_test = train_test_split(X, y, test_size=0.2, random_state=42)"
   ]
  },
  {
   "cell_type": "markdown",
   "metadata": {},
   "source": [
    "#### Simple ML models based on Spacy vector"
   ]
  },
  {
   "cell_type": "code",
   "execution_count": 7,
   "metadata": {},
   "outputs": [
    {
     "name": "stdout",
     "output_type": "stream",
     "text": [
      "0.4617313122239614\n"
     ]
    }
   ],
   "source": [
    "from sklearn.linear_model import LinearRegression\n",
    "reg = LinearRegression().fit(X_train, y_train)\n",
    "y_pred = reg.predict(X_test)\n",
    "print(reg.score(X_test, y_test)) # R^2 variance weighted"
   ]
  },
  {
   "cell_type": "code",
   "execution_count": null,
   "metadata": {},
   "outputs": [],
   "source": [
    "#Plot y_pred over y_test for linear regression (score = 0.43662885147475616)\n",
    "#linear reg spacy_lss r2=0.4617313122239614 for 50-1000 len_lss, le_months<250\n",
    "plt.figure(figsize=(8,8))\n",
    "plt.scatter(y_test, y_pred)\n",
    "plt.plot(range(300), range(300), '-r')\n",
    "plt.xlim(0, 300)\n",
    "plt.ylim(0, 300)\n",
    "plt.title(\"Linear Regression\")\n",
    "plt.xlabel(\"True\")\n",
    "plt.ylabel(\"Predicted\")\n",
    "plt.show()"
   ]
  },
  {
   "cell_type": "code",
   "execution_count": 8,
   "metadata": {},
   "outputs": [
    {
     "name": "stdout",
     "output_type": "stream",
     "text": [
      "[08:25:33] WARNING: src/objective/regression_obj.cu:152: reg:linear is now deprecated in favor of reg:squarederror.\n",
      "0.44425965934761835\n"
     ]
    }
   ],
   "source": [
    "#xgb regressor r2 score = 0.4118154583805178 for 57k data\n",
    "#xgb reg spacy_lss r2= 0.44425965934761835  for 50-1000 len_lss, le_months<250\n",
    "\n",
    "import xgboost\n",
    "from xgboost import XGBRegressor\n",
    "from sklearn.metrics import r2_score\n",
    "xgb = XGBRegressor().fit(X_train,y_train)\n",
    "y_pred_xgb = xgb.predict(X_test)\n",
    "print(r2_score(y_test, y_pred_xgb, multioutput='variance_weighted'))"
   ]
  },
  {
   "cell_type": "code",
   "execution_count": null,
   "metadata": {},
   "outputs": [],
   "source": [
    "plt.figure(figsize=(8,8))\n",
    "plt.scatter(y_test, y_pred)\n",
    "plt.plot(range(300), range(300), '-r')\n",
    "plt.xlim(0, 300)\n",
    "plt.ylim(0, 300)\n",
    "plt.title(\"XGBoost Regressor\")\n",
    "plt.xlabel(\"True\")\n",
    "plt.ylabel(\"Predicted\")\n",
    "plt.show()"
   ]
  },
  {
   "cell_type": "code",
   "execution_count": 9,
   "metadata": {
    "scrolled": true
   },
   "outputs": [
    {
     "name": "stdout",
     "output_type": "stream",
     "text": [
      "0.5800088178042535\n"
     ]
    }
   ],
   "source": [
    "# random forest regressor score = 0.5402527642512915 for 57k data\n",
    "# rf regressor r2 = 0.5560166555170266 when filted len_word<=750, le_months<=250\n",
    "# rf regressor r2 = 0.5384426783146021 when filted 100<=len_word<=2000, le_months<=250 on noteclean_spacy_vec\n",
    "#rf reg spacy_lss r2= 0.5800088178042535 for 50-1000 len_lss, le_months<250\n",
    "\n",
    "from sklearn.ensemble import RandomForestRegressor \n",
    "reg_rf = RandomForestRegressor(n_estimators = 100, random_state = 0) \n",
    "reg_rf = RandomForestRegressor().fit(X_train, y_train)\n",
    "y_pred_reg_rf = reg_rf.predict(X_test)\n",
    "y_train_pred = reg_rf.predict(X_train)\n",
    "\n",
    "print(reg_rf.score(X_test, y_test))"
   ]
  },
  {
   "cell_type": "code",
   "execution_count": 15,
   "metadata": {
    "collapsed": true
   },
   "outputs": [
    {
     "data": {
      "text/plain": [
       "array([167.12      , 122.85      ,  33.48      , 100.39      ,\n",
       "        42.645     ,  58.26166667, 150.86442857,  70.9974127 ,\n",
       "        81.72      ,  35.87195238,  55.31166667,  40.6055    ,\n",
       "        93.28      ,  45.40595238, 104.056     , 160.33      ,\n",
       "        99.996     , 212.32      ,  97.79330952,  41.56666667,\n",
       "        93.25666667, 102.25      ,  84.98      ,  85.5175    ,\n",
       "        45.678     ,  72.42      , 152.82      ,  52.35      ,\n",
       "       115.88      , 156.31      ,  74.3425    ,  77.66045238,\n",
       "       132.395     , 114.59      ,  37.48      , 129.0337619 ,\n",
       "       105.14      , 119.24      ,  98.955     , 102.26      ,\n",
       "        68.91      ,  43.02166667, 100.56      ,  51.98828571,\n",
       "       126.48738095, 101.42333333,  71.48833333, 118.98      ,\n",
       "        37.00666667,  76.988     ,  77.45      , 123.54333333,\n",
       "        87.79952381, 108.08      , 107.23      ,  78.655     ,\n",
       "       151.58      ,  67.177     , 128.45      ,  76.39014286,\n",
       "        48.92933333,  83.14      , 148.93      , 101.355     ,\n",
       "       101.42      , 150.245     , 177.65733333,  34.385     ,\n",
       "       107.67869048,  40.21036587,  30.07361905, 130.71964286,\n",
       "        85.5       ,  49.59857143,  86.92      , 157.73283333,\n",
       "       121.43      , 172.69      ,  61.625     , 122.7       ,\n",
       "        88.505     ,  79.81      , 149.51      , 154.05      ,\n",
       "       124.68666667, 138.44333333, 104.97      ,  43.36      ,\n",
       "       104.62      ,  71.28      , 107.58316667,  78.72      ,\n",
       "       107.575     ,  99.        , 101.28      ,  88.03      ,\n",
       "        69.74      , 151.22      , 146.384     ,  86.64      ])"
      ]
     },
     "execution_count": 15,
     "metadata": {},
     "output_type": "execute_result"
    }
   ],
   "source": [
    "y_train_pred[:100]"
   ]
  },
  {
   "cell_type": "code",
   "execution_count": 25,
   "metadata": {},
   "outputs": [
    {
     "data": {
      "image/png": "[encoded data removed]",
      "text/plain": [
       "<Figure size 360x360 with 1 Axes>"
      ]
     },
     "metadata": {
      "needs_background": "light"
     },
     "output_type": "display_data"
    }
   ],
   "source": [
    "plt.figure(figsize=(5,5))\n",
    "plt.scatter(y_test[100:150], y_pred_reg_rf[100:150], label = 'Test')\n",
    "plt.scatter(y_train[100:200], y_train_pred[100:200], label = 'Train')\n",
    "plt.plot(range(300), range(300), '-r')\n",
    "plt.xlim(0, 300)\n",
    "plt.ylim(0, 300)\n",
    "plt.title(\"Random Forest Regressor\")\n",
    "plt.xlabel(\"True\",fontsize =12)\n",
    "plt.ylabel(\"Predicted\",fontsize =12)\n",
    "plt.legend()\n",
    "plt.show()"
   ]
  },
  {
   "cell_type": "code",
   "execution_count": null,
   "metadata": {},
   "outputs": [],
   "source": [
    "# BayesianRidge regressor score = 0.4366820387501755, basically the model didn't work. \n",
    "# std for predicted label is nearly 60% of predicted value.\n",
    "from sklearn import linear_model\n",
    "reg_br = linear_model.BayesianRidge()\n",
    "reg_br.fit(X_train, y_train)\n",
    "\n",
    "print(reg_br.score(X_test, y_test))\n",
    "\n",
    "print(reg_br.predict(X_test[:10], return_std = True))"
   ]
  },
  {
   "cell_type": "markdown",
   "metadata": {},
   "source": [
    "## LSTM "
   ]
  },
  {
   "cell_type": "code",
   "execution_count": null,
   "metadata": {},
   "outputs": [],
   "source": [
    "class lstm(nn.Module):\n",
    "    def __init__(self):\n",
    "        super(lstm, self).__init__()\n",
    "        self.lstm_layer = nn.LSTM(300, 300)\n",
    "        self.linear_layer = nn.Linear(300, 1)\n",
    "    def forward(self, input_vec):\n",
    "        output, _ = self.lstm_layer(input_vec)\n",
    "        logit = self.linear_layer(output.view(len(input_vec), -1))\n",
    "        return logit"
   ]
  },
  {
   "cell_type": "code",
   "execution_count": null,
   "metadata": {},
   "outputs": [],
   "source": [
    "model = lstm()\n",
    "print(model)\n",
    "\n",
    "for p in model.named_parameters():\n",
    "    print(p[0], str(tuple(p[1].size())))"
   ]
  },
  {
   "cell_type": "code",
   "execution_count": null,
   "metadata": {},
   "outputs": [],
   "source": [
    "model.to(device)\n",
    "criterion = nn.L1Loss()\n",
    "optimizer = AdamW(model.parameters(), lr = 2e-5, eps = 1e-8 )"
   ]
  },
  {
   "cell_type": "code",
   "execution_count": null,
   "metadata": {},
   "outputs": [],
   "source": []
  },
  {
   "cell_type": "code",
   "execution_count": null,
   "metadata": {},
   "outputs": [],
   "source": []
  },
  {
   "cell_type": "markdown",
   "metadata": {},
   "source": [
    "## Encode Text into 510 per group for BERT input"
   ]
  },
  {
   "cell_type": "code",
   "execution_count": null,
   "metadata": {},
   "outputs": [],
   "source": [
    "from transformers import AutoTokenizer, AutoModel\n",
    "tokenizer = AutoTokenizer.from_pretrained(\"emilyalsentzer/Bio_ClinicalBERT\")\n",
    "model = AutoModel.from_pretrained(\"emilyalsentzer/Bio_ClinicalBERT\")"
   ]
  },
  {
   "cell_type": "code",
   "execution_count": null,
   "metadata": {},
   "outputs": [],
   "source": [
    "def text_to_idmtx(note):\n",
    "    ids = tokenizer.encode(note, add_special_tokens = False)\n",
    "    idmtx = [[101]+ids[i:i+510]+[102] for i in range(0, len(ids), 510)]\n",
    "    idmtx[-1] += (512-len(idmtx[-1]))*[0]\n",
    "    idmtx = np.array(idmtx).reshape(-1, 512)\n",
    "    return idmtx"
   ]
  },
  {
   "cell_type": "code",
   "execution_count": null,
   "metadata": {},
   "outputs": [],
   "source": [
    "df['len_token_id'] = df['token_id'].progress_apply(len)"
   ]
  },
  {
   "cell_type": "code",
   "execution_count": null,
   "metadata": {
    "scrolled": true
   },
   "outputs": [],
   "source": [
    "df['token_id_matrix'] = df['notes'].progress_apply(text_to_idmtx)"
   ]
  },
  {
   "cell_type": "code",
   "execution_count": null,
   "metadata": {},
   "outputs": [],
   "source": [
    "# df[['key','notes', 'le_months', 'note_spacy_vec', 'bert_token_id','token_id_matrix']].to_csv('note_vec_token.csv', index = False)\n",
    "\n",
    "df[['key','notes', 'le_months', 'note_spacy_vec','token_id_matrix']].to_pickle('note_vec_token.pkl')"
   ]
  },
  {
   "cell_type": "code",
   "execution_count": null,
   "metadata": {},
   "outputs": [],
   "source": [
    "def k_row(mtx, k=6):\n",
    "    row = mtx.shape[0]\n",
    "    if row <= k:\n",
    "        n = 512*(k-row)\n",
    "        mtx_new = np.append(mtx.reshape(1, -1), [0]*n)\n",
    "    else:\n",
    "        mtx_new = np.squeeze(mtx.reshape(1,-1))[: k*512]\n",
    "    return mtx_new\n",
    "\n",
    "\n",
    "df['six_row'] = df['token_id_matrix'].progress_apply(k_row)"
   ]
  },
  {
   "cell_type": "code",
   "execution_count": null,
   "metadata": {},
   "outputs": [],
   "source": [
    "df['six_row'].apply(len).value_counts()"
   ]
  },
  {
   "cell_type": "markdown",
   "metadata": {},
   "source": [
    "## BERT X & y"
   ]
  },
  {
   "cell_type": "code",
   "execution_count": null,
   "metadata": {},
   "outputs": [],
   "source": [
    "dfbert = df[df['le_months'] <= 250]\n",
    "X = np.array(dfbert['six_row'].tolist()).astype(np.int64)\n",
    "y = dfbert['le_months'].astype(np.float32).to_numpy()\n",
    "\n",
    "mask = (X!=0).astype(np.int8)"
   ]
  },
  {
   "cell_type": "code",
   "execution_count": null,
   "metadata": {},
   "outputs": [],
   "source": [
    "X.dtype"
   ]
  },
  {
   "cell_type": "code",
   "execution_count": null,
   "metadata": {},
   "outputs": [],
   "source": [
    "import pandas as pd\n",
    "import numpy as np\n",
    "import matplotlib.pyplot as plt\n",
    "from tqdm.notebook import tqdm\n",
    "import time\n",
    "import datetime\n",
    "import random\n",
    "\n",
    "from sklearn.model_selection import train_test_split\n",
    "\n",
    "import torch\n",
    "import torch.nn as nn\n",
    "import torch.optim as optim\n",
    "import torch.nn.functional as F\n",
    "from torch.utils.data import TensorDataset, DataLoader, RandomSampler, SequentialSampler\n",
    "\n",
    "from transformers import  AutoTokenizer, AutoModel\n",
    "from transformers import AdamW\n",
    "from transformers import get_linear_schedule_with_warmup"
   ]
  },
  {
   "cell_type": "code",
   "execution_count": null,
   "metadata": {},
   "outputs": [],
   "source": [
    "def dataLoader(input_ids, input_mask, labels, batch_size=32, val_test_size=0.1, random_seed=2020):\n",
    "  \"\"\"This function takes in all available data, split into train, val, test, and return a torch DataLoader for each. \n",
    "  \"\"\"\n",
    "  # split into train, validation, test \n",
    "  X_train_val, X_test, y_train_val, y_test = train_test_split(input_ids, labels, random_state=random_seed, test_size=val_test_size)\n",
    "  mask_train_val, mask_test, _, _ = train_test_split(input_mask, labels, random_state=random_seed, test_size=val_test_size)\n",
    "\n",
    "  X_train, X_val, y_train, y_val = train_test_split(X_train_val, y_train_val, random_state=random_seed, test_size=val_test_size)\n",
    "  mask_train, mask_val, _, _ = train_test_split(mask_train_val, y_train_val, random_state=random_seed, test_size=val_test_size)\n",
    "\n",
    "  # turn numpy array into tensor\n",
    "  X_train, X_val, X_test  = torch.tensor(X_train), torch.tensor(X_val), torch.tensor(X_test)\n",
    "  y_train, y_val, y_test = torch.tensor(y_train), torch.tensor(y_val), torch.tensor(y_test)\n",
    "  mask_train, mask_val, mask_test = torch.tensor(mask_train), torch.tensor(mask_val), torch.tensor(mask_test)\n",
    "\n",
    "  # Create the DataLoader for training set.\n",
    "  train_data = TensorDataset(X_train, mask_train, y_train)\n",
    "  train_sampler = RandomSampler(train_data)\n",
    "  train_dataloader = DataLoader(train_data, sampler=train_sampler, batch_size=batch_size)\n",
    "\n",
    "  # Create the DataLoader for validation set.\n",
    "  validation_data = TensorDataset(X_val, mask_val, y_val)\n",
    "  validation_sampler = SequentialSampler(validation_data)\n",
    "  validation_dataloader = DataLoader(validation_data, sampler=validation_sampler, batch_size=batch_size)\n",
    "\n",
    "  # Create the DataLoader for testing set.\n",
    "  test_data = TensorDataset(X_test, mask_test, y_test)\n",
    "  test_sampler = SequentialSampler(test_data)\n",
    "  test_dataloader = DataLoader(test_data, sampler=test_sampler, batch_size=batch_size)\n",
    "  return(train_dataloader, validation_dataloader, test_dataloader)\n",
    "\n",
    "# Function to calculate the accuracy of our predictions vs labels\n",
    "def flat_accuracy(preds, labels):\n",
    "    pred_flat = np.argmax(preds, axis=1).flatten()\n",
    "    labels_flat = labels.flatten()\n",
    "    return np.sum(pred_flat == labels_flat) / len(labels_flat)\n",
    "\n",
    "def format_time(elapsed):\n",
    "    '''\n",
    "    Takes a time in seconds and returns a string hh:mm:ss\n",
    "    '''\n",
    "    # Round to the nearest second.\n",
    "    elapsed_rounded = int(round((elapsed)))\n",
    "    \n",
    "    # Format as hh:mm:ss\n",
    "    return str(datetime.timedelta(seconds=elapsed_rounded))"
   ]
  },
  {
   "cell_type": "code",
   "execution_count": null,
   "metadata": {},
   "outputs": [],
   "source": [
    "class Model(nn.Module):\n",
    "\n",
    "  def __init__(self, num_class=1, freeze_bert = True):\n",
    "    super(Model, self).__init__()\n",
    "\n",
    "    #Instantiating clinical_bert model  \n",
    "    self.clinical_bert_layer = AutoModel.from_pretrained(\"emilyalsentzer/Bio_ClinicalBERT\")\n",
    "\n",
    "    #Freeze bert layers\n",
    "    if freeze_bert:\n",
    "        for p in self.clinical_bert_layer.parameters():\n",
    "            p.requires_grad = False\n",
    "\n",
    "    self.lstm_layer = nn.LSTM(input_size=768, hidden_size=768, num_layers=1, batch_first=False)\n",
    "    self.cls_layer = nn.Linear(768, num_class)\n",
    "\n",
    "  def forward(self, input_ids, attention_mask):\n",
    "  \n",
    "    batch_size, lstm_length = input_ids.shape[0], int(input_ids.shape[1] / 512)\n",
    "    input_ids, attention_mask = input_ids.view(-1, 512), attention_mask.view(-1, 512)\n",
    "    last_hidden_state , _ = self.clinical_bert_layer(input_ids, attention_mask = attention_mask)\n",
    "    cls_embedding = last_hidden_state[:, 0, :].unsqueeze(1)\n",
    "    cls_embedding = cls_embedding.view(lstm_length, batch_size, -1)\n",
    "    _, (hn, _) = self.lstm_layer(cls_embedding) \n",
    "    cls_holistic = hn[-1]\n",
    "    logits = self.cls_layer(cls_holistic).squeeze()\n",
    "    del input_ids, attention_mask, last_hidden_state, cls_embedding, hn, cls_holistic\n",
    "    return logits\n"
   ]
  },
  {
   "cell_type": "code",
   "execution_count": null,
   "metadata": {},
   "outputs": [],
   "source": [
    "def train(model, criterion, optimizer, train_dataloader, val_dataloader, config, scheduler=None):\n",
    "  \n",
    "  random.seed(config.random_seed)\n",
    "  np.random.seed(config.random_seed)\n",
    "  torch.manual_seed(config.random_seed)\n",
    "  torch.cuda.manual_seed_all(config.random_seed)\n",
    "\n",
    "      # ========================================\n",
    "      #               Training\n",
    "      # ========================================\n",
    "  iterations = 0\n",
    "  for epoch in tqdm(range(0, config.epochs)):\n",
    "\n",
    "    print(\"\")\n",
    "    print('======== Epoch {:} / {:} ========'.format(epoch + 1, config.epochs))\n",
    "    print('Training...')\n",
    "\n",
    "    t0 = time.time()\n",
    "    total_loss = 0\n",
    "    model.train()\n",
    "\n",
    "    for step, batch in tqdm(enumerate(train_dataloader),desc='Training one epoch'):\n",
    "\n",
    "      # Unpack this training batch from our dataloader. \n",
    "      b_input_ids = batch[0].to(config.device)\n",
    "      b_input_mask = batch[1].to(config.device)\n",
    "      b_targets = batch[2].to(config.device)\n",
    "\n",
    "      model.zero_grad()  # set gradient to 0 before training\n",
    "      logits = model(b_input_ids, attention_mask=b_input_mask)  # forward pass\n",
    "\n",
    "      loss = criterion(logits, b_targets) # calculate the batch loss\n",
    "      total_loss += loss.item() # accumulate loss in an epoch to compute average loss \n",
    "\n",
    "      elapsed = format_time(time.time() - t0) # Calculate elapsed time in minutes.\n",
    "      if step % config.print_interval == 0 and not step == 0:\n",
    "        print('  Batch {:>5,}  of  {:>5,}.  Elapsed: {:}.  Loss: {:>6.4f}.'.format(step, len(train_dataloader), elapsed, loss))\n",
    "\n",
    "      loss.backward()  # back prop\n",
    "      torch.nn.utils.clip_grad_norm_(model.parameters(), 1.0)  # clip gradient to prevent exploding\n",
    "      optimizer.step()  # update weights\n",
    "      if scheduler:\n",
    "        scheduler.step()  # Update the learning rate.\n",
    "      iterations += 1\n",
    "\n",
    "        # ========================================\n",
    "        #               Validation\n",
    "        # ========================================\n",
    "\n",
    "      if iterations % config.val_interal == 0 and not iterations == 0:\n",
    "        print(\"\")\n",
    "        print(\"Running Validation...\")\n",
    "\n",
    "        t1 = time.time()\n",
    "        model.eval()   # Put the model in evaluation mode--the dropout layers behave differently during eval\n",
    "\n",
    "        eval_loss, nb_eval_steps = 0, 0\n",
    "\n",
    "        # Evaluate data for one epoch\n",
    "        for batch in tqdm(val_dataloader, desc='Validation'):\n",
    "            \n",
    "            batch = tuple(t.to(config.device) for t in batch)       # Add batch to GPU\n",
    "            b_input_ids, b_input_mask, b_targets = batch      # Unpack the inputs from our dataloader\n",
    "            \n",
    "            # Telling the model not to compute or store gradients, saving memory and speeding up validation\n",
    "            with torch.no_grad():\n",
    "              logits = model(b_input_ids, attention_mask=b_input_mask)\n",
    "\n",
    "            loss = criterion(logits, b_targets) # calculate the batch loss\n",
    "            eval_loss += loss\n",
    "\n",
    "            nb_eval_steps += 1      # Track the number of batches\n",
    "\n",
    "        # Report the final accuracy for this validation run.\n",
    "        print(\"  MSE: {0:.4f}\".format(eval_loss/nb_eval_steps))\n",
    "        print(\"  Validation took: {:}\".format(format_time(time.time() - t1)))\n",
    "\n",
    "        torch.save({\n",
    "            'epoch': epoch,\n",
    "            'iterations': iterations,\n",
    "            'model_state_dict': model.state_dict(),\n",
    "            'optimizer_state_dict': optimizer.state_dict(),\n",
    "            'val_loss_MAE': eval_loss/nb_eval_steps,\n",
    "            }, config.PATH + '_' + str(iterations))\n",
    "        model.train()\n",
    "\n",
    "    avg_train_loss = total_loss / len(train_dataloader)  # Calculate the average loss over the training data.      \n",
    "\n",
    "    print(\"  Average training MSE: {0:.2f}\".format(avg_train_loss))\n",
    "    print(\"  Training epcoh took: {:}\".format(format_time(time.time() - t0)))\n",
    "    print(\"\")\n",
    "    print(\"\")\n",
    "\n",
    "  print(\"\")\n",
    "  print(\"Training complete!\")\n"
   ]
  },
  {
   "cell_type": "code",
   "execution_count": null,
   "metadata": {},
   "outputs": [],
   "source": [
    "class Config():\n",
    "  device = torch.device(\"cuda\") if torch.cuda.is_available() else torch.device(\"cpu\")\n",
    "  batch_size=32\n",
    "  epochs = 10\n",
    "  val_interal=100   # do validation after this number of batches have been trained\n",
    "  print_interval=40 # print the details of the training every this number of batch\n",
    "  val_test_size=0.1  \n",
    "  random_seed=42\n",
    "  PATH = './checkpoints/checkpoint'\n",
    "\n",
    "config = Config()\n",
    "\n",
    "model = Model(num_class=1, freeze_bert=True)\n",
    "model.to(config.device)\n",
    "\n",
    "criterion = nn.L1Loss()\n",
    "optimizer = AdamW(model.parameters(), lr = 2e-5, eps = 1e-8 )\n",
    "\n",
    "\n",
    "# # dummy data\n",
    "# input_ids = np.random.randint(1, 10000, (1000, 512))\n",
    "# input_mask = np.ones_like(input_ids)\n",
    "# targets = np.random.randint(1, 5, (1000,))\n",
    "\n",
    "train_dataloader, val_dataloader, test_dataloader = dataLoader(X, mask, y)\n",
    "total_steps = len(train_dataloader) * config.epochs\n",
    "scheduler = get_linear_schedule_with_warmup(optimizer, num_warmup_steps = 0, num_training_steps = total_steps)"
   ]
  },
  {
   "cell_type": "code",
   "execution_count": null,
   "metadata": {},
   "outputs": [],
   "source": [
    "config.batch_size = 8\n",
    "config.val_interal = 500\n",
    "config.epochs = 10\n",
    "\n",
    "# model = Model(num_class=1, freeze_bert=True)\n",
    "# model.to(config.device)\n",
    "train(model, criterion, optimizer, train_dataloader, val_dataloader, config, scheduler)"
   ]
  },
  {
   "cell_type": "code",
   "execution_count": null,
   "metadata": {},
   "outputs": [],
   "source": [
    "torch.cuda.empty_cache()\n",
    "print(torch.cuda.max_memory_allocated(device=config.device) / 1024 / 1024 / 1024)\n",
    "torch.cuda.memory_allocated(device=config.device) / 1024 / 1024 / 1024"
   ]
  },
  {
   "cell_type": "code",
   "execution_count": null,
   "metadata": {},
   "outputs": [],
   "source": []
  },
  {
   "cell_type": "code",
   "execution_count": null,
   "metadata": {},
   "outputs": [],
   "source": []
  },
  {
   "cell_type": "code",
   "execution_count": null,
   "metadata": {},
   "outputs": [],
   "source": []
  },
  {
   "cell_type": "code",
   "execution_count": null,
   "metadata": {},
   "outputs": [],
   "source": []
  },
  {
   "cell_type": "code",
   "execution_count": null,
   "metadata": {},
   "outputs": [],
   "source": []
  },
  {
   "cell_type": "code",
   "execution_count": null,
   "metadata": {},
   "outputs": [],
   "source": []
  },
  {
   "cell_type": "code",
   "execution_count": null,
   "metadata": {},
   "outputs": [],
   "source": [
    "df['len_divmod'] = df['len_token_id'].apply(lambda x: divmod(x, 510))"
   ]
  },
  {
   "cell_type": "code",
   "execution_count": null,
   "metadata": {},
   "outputs": [],
   "source": [
    "def id_matrix (series):\n",
    "    div = series['len_divmod'][0]\n",
    "    rem = series['len_divmod'][1]\n",
    "    if rem != 0:\n",
    "        divs = 510 * div\n",
    "        series[1] = series[0][divs:]\n",
    "        series[0] = np.array(series[0][:divs]).reshape(div, 510)\n",
    "        \n",
    "    else:\n",
    "        series[1][1] == 0\n",
    "        series[1] = [' ']\n",
    "        series[0] = np.array(series[0]).reshape(div, 510)\n",
    "    return series"
   ]
  },
  {
   "cell_type": "code",
   "execution_count": null,
   "metadata": {},
   "outputs": [],
   "source": [
    "df1 = df[['token_id','len_divmod']].copy()\n",
    "df1.iloc[0]\n",
    "df1 = df1.progress_apply(id_matrix, axis = 1)"
   ]
  }
 ],
 "metadata": {
  "kernelspec": {
   "display_name": "Python 3",
   "language": "python",
   "name": "python3"
  },
  "language_info": {
   "codemirror_mode": {
    "name": "ipython",
    "version": 3
   },
   "file_extension": ".py",
   "mimetype": "text/x-python",
   "name": "python",
   "nbconvert_exporter": "python",
   "pygments_lexer": "ipython3",
   "version": "3.7.6"
  }
 },
 "nbformat": 4,
 "nbformat_minor": 4
}
